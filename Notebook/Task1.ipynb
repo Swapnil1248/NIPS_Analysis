{
 "cells": [
  {
   "cell_type": "code",
   "execution_count": 327,
   "metadata": {},
   "outputs": [],
   "source": [
    "import pandas as pd\n",
    "import matplotlib.pyplot as plt"
   ]
  },
  {
   "cell_type": "markdown",
   "metadata": {},
   "source": [
    "## Step1: Read Data"
   ]
  },
  {
   "cell_type": "code",
   "execution_count": 83,
   "metadata": {},
   "outputs": [],
   "source": [
    "df=pd.read_csv(\"./data/cleaned_data.csv\")"
   ]
  },
  {
   "cell_type": "code",
   "execution_count": 84,
   "metadata": {},
   "outputs": [
    {
     "data": {
      "text/plain": [
       "(10, 9)"
      ]
     },
     "execution_count": 84,
     "metadata": {},
     "output_type": "execute_result"
    }
   ],
   "source": [
    "df.shape"
   ]
  },
  {
   "cell_type": "code",
   "execution_count": 85,
   "metadata": {},
   "outputs": [
    {
     "data": {
      "text/html": [
       "<div>\n",
       "<style scoped>\n",
       "    .dataframe tbody tr th:only-of-type {\n",
       "        vertical-align: middle;\n",
       "    }\n",
       "\n",
       "    .dataframe tbody tr th {\n",
       "        vertical-align: top;\n",
       "    }\n",
       "\n",
       "    .dataframe thead th {\n",
       "        text-align: right;\n",
       "    }\n",
       "</style>\n",
       "<table border=\"1\" class=\"dataframe\">\n",
       "  <thead>\n",
       "    <tr style=\"text-align: right;\">\n",
       "      <th></th>\n",
       "      <th>Unnamed: 0</th>\n",
       "      <th>Id</th>\n",
       "      <th>Title</th>\n",
       "      <th>EventType</th>\n",
       "      <th>PdfName</th>\n",
       "      <th>Abstract</th>\n",
       "      <th>PaperText</th>\n",
       "      <th>AbstractClean</th>\n",
       "      <th>PaperTextClean</th>\n",
       "    </tr>\n",
       "  </thead>\n",
       "  <tbody>\n",
       "    <tr>\n",
       "      <th>0</th>\n",
       "      <td>0</td>\n",
       "      <td>5677</td>\n",
       "      <td>Double or Nothing: Multiplicative Incentive Me...</td>\n",
       "      <td>Poster</td>\n",
       "      <td>5677-double-or-nothing-multiplicative-incentiv...</td>\n",
       "      <td>Crowdsourcing has gained immense popularity in...</td>\n",
       "      <td>Double or Nothing: Multiplicative\\nIncentive M...</td>\n",
       "      <td>crowdsourcing gained immense popularity machin...</td>\n",
       "      <td>double nothing multiplicative incentive mechan...</td>\n",
       "    </tr>\n",
       "    <tr>\n",
       "      <th>1</th>\n",
       "      <td>1</td>\n",
       "      <td>5941</td>\n",
       "      <td>Learning with Symmetric Label Noise: The Impor...</td>\n",
       "      <td>Spotlight</td>\n",
       "      <td>5941-learning-with-symmetric-label-noise-the-i...</td>\n",
       "      <td>Convex potential minimisation is the de facto ...</td>\n",
       "      <td>Learning with Symmetric Label Noise: The\\nImpo...</td>\n",
       "      <td>convex potential minimisation de facto approac...</td>\n",
       "      <td>learning symmetric label noise importance unhi...</td>\n",
       "    </tr>\n",
       "    <tr>\n",
       "      <th>2</th>\n",
       "      <td>2</td>\n",
       "      <td>6019</td>\n",
       "      <td>Algorithmic Stability and Uniform Generalization</td>\n",
       "      <td>Poster</td>\n",
       "      <td>6019-algorithmic-stability-and-uniform-general...</td>\n",
       "      <td>One of the central questions in statistical le...</td>\n",
       "      <td>Algorithmic Stability and Uniform Generalizati...</td>\n",
       "      <td>one central questions statistical learning the...</td>\n",
       "      <td>algorithmic stability uniform generalization i...</td>\n",
       "    </tr>\n",
       "    <tr>\n",
       "      <th>3</th>\n",
       "      <td>3</td>\n",
       "      <td>6035</td>\n",
       "      <td>Adaptive Low-Complexity Sequential Inference f...</td>\n",
       "      <td>Poster</td>\n",
       "      <td>6035-adaptive-low-complexity-sequential-infere...</td>\n",
       "      <td>We develop a sequential low-complexity inferen...</td>\n",
       "      <td>Adaptive Low-Complexity Sequential Inference f...</td>\n",
       "      <td>develop sequential lowcomplexity inference pro...</td>\n",
       "      <td>adaptive lowcomplexity sequential inference di...</td>\n",
       "    </tr>\n",
       "  </tbody>\n",
       "</table>\n",
       "</div>"
      ],
      "text/plain": [
       "   Unnamed: 0    Id                                              Title  \\\n",
       "0           0  5677  Double or Nothing: Multiplicative Incentive Me...   \n",
       "1           1  5941  Learning with Symmetric Label Noise: The Impor...   \n",
       "2           2  6019   Algorithmic Stability and Uniform Generalization   \n",
       "3           3  6035  Adaptive Low-Complexity Sequential Inference f...   \n",
       "\n",
       "   EventType                                            PdfName  \\\n",
       "0     Poster  5677-double-or-nothing-multiplicative-incentiv...   \n",
       "1  Spotlight  5941-learning-with-symmetric-label-noise-the-i...   \n",
       "2     Poster  6019-algorithmic-stability-and-uniform-general...   \n",
       "3     Poster  6035-adaptive-low-complexity-sequential-infere...   \n",
       "\n",
       "                                            Abstract  \\\n",
       "0  Crowdsourcing has gained immense popularity in...   \n",
       "1  Convex potential minimisation is the de facto ...   \n",
       "2  One of the central questions in statistical le...   \n",
       "3  We develop a sequential low-complexity inferen...   \n",
       "\n",
       "                                           PaperText  \\\n",
       "0  Double or Nothing: Multiplicative\\nIncentive M...   \n",
       "1  Learning with Symmetric Label Noise: The\\nImpo...   \n",
       "2  Algorithmic Stability and Uniform Generalizati...   \n",
       "3  Adaptive Low-Complexity Sequential Inference f...   \n",
       "\n",
       "                                       AbstractClean  \\\n",
       "0  crowdsourcing gained immense popularity machin...   \n",
       "1  convex potential minimisation de facto approac...   \n",
       "2  one central questions statistical learning the...   \n",
       "3  develop sequential lowcomplexity inference pro...   \n",
       "\n",
       "                                      PaperTextClean  \n",
       "0  double nothing multiplicative incentive mechan...  \n",
       "1  learning symmetric label noise importance unhi...  \n",
       "2  algorithmic stability uniform generalization i...  \n",
       "3  adaptive lowcomplexity sequential inference di...  "
      ]
     },
     "execution_count": 85,
     "metadata": {},
     "output_type": "execute_result"
    }
   ],
   "source": [
    "df.head(4)"
   ]
  },
  {
   "cell_type": "code",
   "execution_count": 86,
   "metadata": {},
   "outputs": [],
   "source": [
    "paper_id=list(df['Id'])"
   ]
  },
  {
   "cell_type": "code",
   "execution_count": 87,
   "metadata": {},
   "outputs": [],
   "source": [
    "from __future__ import division\n",
    "from collections import Counter, defaultdict\n",
    "from sklearn.feature_extraction.text import CountVectorizer\n",
    "import numpy as np\n",
    "import numpy.core.defchararray as npd\n",
    "import spacy\n",
    "from spacy.lang.en import English\n",
    "nlp = spacy.load('en')\n",
    "import re"
   ]
  },
  {
   "cell_type": "code",
   "execution_count": 304,
   "metadata": {},
   "outputs": [],
   "source": [
    "class test1:\n",
    "    def _iter_nouns(self, sent):\n",
    "        '''\n",
    "        INPUT: SentCustomProperties\n",
    "        OUTPUT: str\n",
    "\n",
    "        Iterates through each token of spacy sentence and collects lemmas of all nouns into a set.\n",
    "        '''        \n",
    "        wordset = set()\n",
    "        noun_tag = set(['NN', 'NNP', 'NNS'])\n",
    "        nonaspects=set()\n",
    "        c=0\n",
    "        for token in doc:#nlp(sent):\n",
    "            c+=1\n",
    "            if c <100:\n",
    "                try:\n",
    "                    #print(\"test\")\n",
    "                    root = nlp.vocab[token.lemma].prob \n",
    "                    root1= nlp.vocab[token.lemma].vector_norm\n",
    "                    print(root1,root,token.tag_)\n",
    "                    # filter to only consider nouns, valid aspects, and uncommon words\n",
    "                    if token.tag_ in noun_tag :#and (root < -3.5 and token.lemma_ not in nonaspects):\n",
    "                        #print(root1,root,token.tag_)\n",
    "                        wordset.add(token)#, token.lemma_)\n",
    "                except:\n",
    "                    continue               \n",
    "            else:\n",
    "                break\n",
    "        #print(wordset)\n",
    "        #for token in doc: \n",
    "        #    print(token.text, token.lemma_, token.pos_, token.tag_)\n",
    "        #return \" \".join(wordset)"
   ]
  },
  {
   "cell_type": "code",
   "execution_count": 301,
   "metadata": {},
   "outputs": [],
   "source": [
    "import nltk"
   ]
  },
  {
   "cell_type": "code",
   "execution_count": 302,
   "metadata": {},
   "outputs": [],
   "source": [
    "def jjnn_pairs(phrase):\n",
    "    '''\n",
    "    Iterate over pairs of JJ-NN.\n",
    "    '''\n",
    "    tagged = nltk.pos_tag(nltk.word_tokenize(phrase))\n",
    "    def ngramise(sequence):\n",
    "        \"\"\"\n",
    "        generate bigrams\n",
    "        \"\"\"\n",
    "        for bigram in nltk.ngrams(sequence, 2):\n",
    "            yield bigram\n",
    "\n",
    "    for ngram in ngramise(tagged):\n",
    "        tokens, tags = zip(*ngram)\n",
    "        if tags == ('JJ', 'NN'):\n",
    "            print(tokens,tags)"
   ]
  },
  {
   "cell_type": "code",
   "execution_count": 303,
   "metadata": {},
   "outputs": [
    {
     "name": "stdout",
     "output_type": "stream",
     "text": [
      "('sweet', 'chili') ('JJ', 'NN')\n",
      "None\n"
     ]
    }
   ],
   "source": [
    "s = [\"thai iced tea spicy fried chicken sweet chili pork thai chicken curry\"]\n",
    "for phrase in s:\n",
    "    #print(noun_notnoun(phrase))\n",
    "    print(jjnn_pairs(phrase))"
   ]
  },
  {
   "cell_type": "code",
   "execution_count": 305,
   "metadata": {},
   "outputs": [],
   "source": [
    "class test:\n",
    "    def _iter_nouns(self, sent):\n",
    "        '''\n",
    "        INPUT: SentCustomProperties\n",
    "        OUTPUT: str\n",
    "        Iterates through each token of spacy sentence and collects lemmas of all nouns into a set.\n",
    "        '''\n",
    "        # dictionary of unigram_nouns\n",
    "        unigram_wordset = dict()\n",
    "        # Identify noun tags\n",
    "        noun_tag = set(['NN', 'NNP', 'NNS'])\n",
    "        # List of keywords we want to exclude \n",
    "        nonaspects=set()\n",
    "            \n",
    "        for token in sent:            \n",
    "            # filter to only consider nouns, valid aspects, and uncommon words\n",
    "            if token.tag_ in noun_tag and token.lemma_ not in nonaspects:\n",
    "                if token.lemma_ in unigram_wordset:\n",
    "                    unigram_wordset[token.lemma_]+=1\n",
    "                else:\n",
    "                    unigram_wordset[token.lemma_]= 1\n",
    "\n",
    "        # Note: We need to normalize the count of nouns with respect to the total noun counts \n",
    "        # as in certain scenarios there will be few nouns and we can't pick nouns based on count\n",
    "        nouns_count=sum([val for val in unigram_wordset.values()])\n",
    "        \n",
    "        unigram_wordset_norm={key: val/nouns_count for (key,val) in unigram_wordset.items()}\n",
    "        top_aspects=[aspect for aspect in unigram_wordset_norm.keys() if unigram_wordset_norm[aspect]>0.01]\n",
    "        print(top_aspects)"
   ]
  },
  {
   "cell_type": "code",
   "execution_count": 258,
   "metadata": {},
   "outputs": [],
   "source": [
    "a=test()"
   ]
  },
  {
   "cell_type": "code",
   "execution_count": 306,
   "metadata": {},
   "outputs": [
    {
     "name": "stdout",
     "output_type": "stream",
     "text": [
      "['mechanism', 'crowdsourcing', 'amount', 'datum', 'payment', 'worker', 'question', 'experiment', 'task', 'algorithm', 'answer', 'confidence', 'g']\n"
     ]
    }
   ],
   "source": [
    "for i in paper_id[:1]:\n",
    "    nlp = spacy.load('en_core_web_sm') # this is for core english\n",
    "    nlp.add_pipe(nlp.create_pipe('sentencizer'))\n",
    "    doc=nlp(str(df[df.Id==i]['PaperTextClean'][0])) #Spacy Doc type\n",
    "    #print(type(doc))\n",
    "    a._iter_nouns(doc)"
   ]
  },
  {
   "cell_type": "markdown",
   "metadata": {},
   "source": [
    "## Task 1: Generate FastText word embeddings\n",
    "1. support a user-defined number of dimensions \n",
    "2. have the ability to turn on/off at least one text-preprocessing step.\n",
    "\n",
    "### Step 1: Preprocessing data\n",
    "- data be in str format for python 3 \n",
    "space\n",
    "tab\n",
    "vertical tab\n",
    "carriage return\n",
    "formfeed\n",
    "the null character\n",
    "\n",
    "#### text preprocessing guidelines - \n",
    "https://www.kdnuggets.com/2018/08/practitioners-guide-processing-understanding-text-2.html"
   ]
  },
  {
   "cell_type": "markdown",
   "metadata": {},
   "source": [
    "from nltk.corpus import gutenberg\n",
    "from string import punctuation\n",
    "\n",
    "bible = gutenberg.sents('bible-kjv.txt')\n",
    "from string import punctuation\n",
    "remove_terms = punctuation + '0123456789'\n",
    "!python -m spacy link en_core_web_sm en"
   ]
  },
  {
   "cell_type": "code",
   "execution_count": 307,
   "metadata": {},
   "outputs": [],
   "source": [
    "#import en_core_web_sm\n",
    "#nlp = en_core_web_sm.load()\n",
    "import spacy\n",
    "import pandas as pd\n",
    "import numpy as np\n",
    "import nltk\n",
    "from nltk.tokenize.toktok import ToktokTokenizer\n",
    "import re\n",
    "from bs4 import BeautifulSoup\n",
    "#from pycontractions import Contractions\n",
    "import unicodedata\n",
    "\n",
    "import spacy\n",
    "nlp = spacy.load('en')\n",
    "#nlp = spacy.load('en_core', parse=True, tag=True, entity=True)\n",
    "#nlp_vec = spacy.load('en_vecs', parse = True, tag=True, #entity=True)\n",
    "tokenizer = ToktokTokenizer()\n",
    "stopword_list = nltk.corpus.stopwords.words('english')\n",
    "stopword_list.remove('no')\n",
    "stopword_list.remove('not')"
   ]
  },
  {
   "cell_type": "code",
   "execution_count": 308,
   "metadata": {},
   "outputs": [],
   "source": [
    "def strip_html_tags(text):\n",
    "    soup = BeautifulSoup(text, \"html.parser\")\n",
    "    stripped_text = soup.get_text()\n",
    "    return stripped_text"
   ]
  },
  {
   "cell_type": "code",
   "execution_count": 309,
   "metadata": {},
   "outputs": [],
   "source": [
    "def remove_accented_chars(text):\n",
    "    text = unicodedata.normalize('NFKD', text).encode('ascii', 'ignore').decode('utf-8', 'ignore')\n",
    "    return text"
   ]
  },
  {
   "cell_type": "code",
   "execution_count": 310,
   "metadata": {},
   "outputs": [],
   "source": [
    "#df.Abstract[:10].apply(remove_accented_chars)"
   ]
  },
  {
   "cell_type": "code",
   "execution_count": 93,
   "metadata": {},
   "outputs": [
    {
     "data": {
      "text/plain": [
       "'Well this was fun What do you think '"
      ]
     },
     "execution_count": 93,
     "metadata": {},
     "output_type": "execute_result"
    }
   ],
   "source": [
    "def remove_special_characters(text, remove_digits=False):\n",
    "    pattern = r'[^a-zA-z0-9\\s]' if not remove_digits else r'[^a-zA-z\\s]'\n",
    "    text = re.sub(pattern, '', text)\n",
    "    return text\n",
    "\n",
    "remove_special_characters(\"Well this was fun! What do you think? 123#@!\", remove_digits=True)\n",
    "#df.Abstract[:10].apply(remove_special_characters)"
   ]
  },
  {
   "cell_type": "code",
   "execution_count": 313,
   "metadata": {},
   "outputs": [],
   "source": [
    "def simple_stemmer(text):\n",
    "    ps = nltk.porter.PorterStemmer()\n",
    "    text = ' '.join([ps.stem(word) for word in text.split()])\n",
    "    return text\n",
    "\n",
    "#simple_stemmer(\"My system keeps crashing his crashed yesterday, ours crashes daily\")"
   ]
  },
  {
   "cell_type": "code",
   "execution_count": 314,
   "metadata": {},
   "outputs": [],
   "source": [
    "def lemmatize_text(text):\n",
    "    text = nlp(text)\n",
    "    text = ' '.join([word.lemma_ if word.lemma_ != '-PRON-' else word.text for word in text])\n",
    "    return text\n",
    "\n",
    "#lemmatize_text(\"My system keeps crashing! his crashed yesterday, ours crashes daily\")"
   ]
  },
  {
   "cell_type": "code",
   "execution_count": 315,
   "metadata": {},
   "outputs": [],
   "source": [
    "#df.Abstract[:10].apply(lemmatize_text)"
   ]
  },
  {
   "cell_type": "code",
   "execution_count": 317,
   "metadata": {},
   "outputs": [],
   "source": [
    "def remove_stopwords(text, is_lower_case=False):\n",
    "    tokens = tokenizer.tokenize(text)\n",
    "    tokens = [token.strip() for token in tokens]\n",
    "    if is_lower_case:\n",
    "        filtered_tokens = [token for token in tokens if token not in stopword_list]\n",
    "    else:\n",
    "        filtered_tokens = [token for token in tokens if token.lower() not in stopword_list]\n",
    "    filtered_text = ' '.join(filtered_tokens)    \n",
    "    return filtered_text\n",
    "\n",
    "#remove_stopwords(\"The, and, if are stopwords, computer is not\")"
   ]
  },
  {
   "cell_type": "code",
   "execution_count": 318,
   "metadata": {},
   "outputs": [],
   "source": [
    "def normalize_corpus(doc, html_stripping=False, accented_char_removal=True, text_lower_case=True, \n",
    "                     text_lemmatization=True, special_char_removal=True, \n",
    "                     stopword_removal=True, remove_digits=True):\n",
    "    #normalized_corpus = []\n",
    "    # normalize each document in the corpus\n",
    "    #for doc in corpus:\n",
    "    # strip HTML\n",
    "    if html_stripping:\n",
    "        doc = strip_html_tags(doc)\n",
    "\n",
    "    # remove accented characters\n",
    "    if accented_char_removal:\n",
    "        doc = remove_accented_chars(doc)\n",
    "\n",
    "    # lowercase the text    \n",
    "    if text_lower_case:\n",
    "        doc = doc.lower()\n",
    "\n",
    "    # remove extra newlines\n",
    "    doc = re.sub(r'[\\r|\\n|\\r\\n]+', ' ',doc)\n",
    "\n",
    "    # lemmatize text\n",
    "    if text_lemmatization:\n",
    "        doc = lemmatize_text(doc)\n",
    "\n",
    "    # remove special characters and\\or digits    \n",
    "    if special_char_removal:\n",
    "        # insert spaces between special characters to isolate them    \n",
    "        special_char_pattern = re.compile(r'([{.(-)!}])')\n",
    "        doc = special_char_pattern.sub(\" \\\\1 \", doc)\n",
    "        doc = remove_special_characters(doc, remove_digits=remove_digits)  \n",
    "\n",
    "    # remove extra whitespace\n",
    "    doc = re.sub(' +', ' ', doc)\n",
    "\n",
    "    # remove stopwords\n",
    "    # http://www.cs.cornell.edu/~xanda/stopwords2017.pdf\n",
    "    if stopword_removal:\n",
    "        doc = remove_stopwords(doc, is_lower_case=text_lower_case)\n",
    "\n",
    "    #normalized_corpus.append(doc)\n",
    "    return doc\n",
    "    #return normalized_corpus"
   ]
  },
  {
   "cell_type": "code",
   "execution_count": 319,
   "metadata": {},
   "outputs": [],
   "source": [
    "#html_stripping=False, \n",
    "#accented_char_removal=True, text_lower_case=True,text_lemmatization=False, special_char_removal=True, stopword_removal=False, remove_digits=True))\n",
    "#df['AbstractClean']=df.Abstract.apply(normalize_corpus, args=(False, True, True, True, True, True, True))\n",
    "#    True, True, True,True,True, True, True))"
   ]
  },
  {
   "cell_type": "code",
   "execution_count": 320,
   "metadata": {},
   "outputs": [],
   "source": [
    "#df['PaperTextClean']=df.PaperText.apply(normalize_corpus, args=(False, True, True, True, True, True, True))"
   ]
  },
  {
   "cell_type": "code",
   "execution_count": 321,
   "metadata": {},
   "outputs": [
    {
     "data": {
      "text/html": [
       "<div>\n",
       "<style scoped>\n",
       "    .dataframe tbody tr th:only-of-type {\n",
       "        vertical-align: middle;\n",
       "    }\n",
       "\n",
       "    .dataframe tbody tr th {\n",
       "        vertical-align: top;\n",
       "    }\n",
       "\n",
       "    .dataframe thead th {\n",
       "        text-align: right;\n",
       "    }\n",
       "</style>\n",
       "<table border=\"1\" class=\"dataframe\">\n",
       "  <thead>\n",
       "    <tr style=\"text-align: right;\">\n",
       "      <th></th>\n",
       "      <th>Unnamed: 0</th>\n",
       "      <th>Id</th>\n",
       "      <th>Title</th>\n",
       "      <th>EventType</th>\n",
       "      <th>PdfName</th>\n",
       "      <th>Abstract</th>\n",
       "      <th>PaperText</th>\n",
       "      <th>AbstractClean</th>\n",
       "      <th>PaperTextClean</th>\n",
       "    </tr>\n",
       "  </thead>\n",
       "  <tbody>\n",
       "    <tr>\n",
       "      <th>0</th>\n",
       "      <td>0</td>\n",
       "      <td>5677</td>\n",
       "      <td>Double or Nothing: Multiplicative Incentive Me...</td>\n",
       "      <td>Poster</td>\n",
       "      <td>5677-double-or-nothing-multiplicative-incentiv...</td>\n",
       "      <td>Crowdsourcing has gained immense popularity in...</td>\n",
       "      <td>Double or Nothing: Multiplicative\\nIncentive M...</td>\n",
       "      <td>crowdsourcing gained immense popularity machin...</td>\n",
       "      <td>double nothing multiplicative incentive mechan...</td>\n",
       "    </tr>\n",
       "    <tr>\n",
       "      <th>1</th>\n",
       "      <td>1</td>\n",
       "      <td>5941</td>\n",
       "      <td>Learning with Symmetric Label Noise: The Impor...</td>\n",
       "      <td>Spotlight</td>\n",
       "      <td>5941-learning-with-symmetric-label-noise-the-i...</td>\n",
       "      <td>Convex potential minimisation is the de facto ...</td>\n",
       "      <td>Learning with Symmetric Label Noise: The\\nImpo...</td>\n",
       "      <td>convex potential minimisation de facto approac...</td>\n",
       "      <td>learning symmetric label noise importance unhi...</td>\n",
       "    </tr>\n",
       "  </tbody>\n",
       "</table>\n",
       "</div>"
      ],
      "text/plain": [
       "   Unnamed: 0    Id                                              Title  \\\n",
       "0           0  5677  Double or Nothing: Multiplicative Incentive Me...   \n",
       "1           1  5941  Learning with Symmetric Label Noise: The Impor...   \n",
       "\n",
       "   EventType                                            PdfName  \\\n",
       "0     Poster  5677-double-or-nothing-multiplicative-incentiv...   \n",
       "1  Spotlight  5941-learning-with-symmetric-label-noise-the-i...   \n",
       "\n",
       "                                            Abstract  \\\n",
       "0  Crowdsourcing has gained immense popularity in...   \n",
       "1  Convex potential minimisation is the de facto ...   \n",
       "\n",
       "                                           PaperText  \\\n",
       "0  Double or Nothing: Multiplicative\\nIncentive M...   \n",
       "1  Learning with Symmetric Label Noise: The\\nImpo...   \n",
       "\n",
       "                                       AbstractClean  \\\n",
       "0  crowdsourcing gained immense popularity machin...   \n",
       "1  convex potential minimisation de facto approac...   \n",
       "\n",
       "                                      PaperTextClean  \n",
       "0  double nothing multiplicative incentive mechan...  \n",
       "1  learning symmetric label noise importance unhi...  "
      ]
     },
     "execution_count": 321,
     "metadata": {},
     "output_type": "execute_result"
    }
   ],
   "source": [
    "df.head(2)"
   ]
  },
  {
   "cell_type": "code",
   "execution_count": 322,
   "metadata": {},
   "outputs": [],
   "source": [
    "# ref: https://www.kdnuggets.com/2018/05/implementing-deep-learning-methods-feature-engineering-text-data-fasttext.html\n",
    "# ref: https://radimrehurek.com/gensim/models/fasttext.html\n",
    "from gensim.models.fasttext import FastText\n",
    "import nltk\n",
    "wpt = nltk.WordPunctTokenizer()\n",
    "#tokenized_corpus = [wpt.tokenize(document) for document in norm_bible[:1000]]\n",
    "tokenized_corpus = [wpt.tokenize(document) for document in list(df.AbstractClean)]#[:10])]   "
   ]
  },
  {
   "cell_type": "code",
   "execution_count": 323,
   "metadata": {},
   "outputs": [],
   "source": [
    "#tokenized_corpus"
   ]
  },
  {
   "cell_type": "code",
   "execution_count": 324,
   "metadata": {},
   "outputs": [],
   "source": [
    "# Set values for various parameters\n",
    "feature_size = 100    # Word vector dimensionality  \n",
    "window_context = 50   # Context window size                                                                                    \n",
    "min_word_count = 5    # Minimum word count                        \n",
    "sample = 1e-3         # Downsample setting for frequent words\n",
    "mode=1               # sg decides whether to use the skip-gram model (1) or CBOW (0)\n",
    "ft_model = FastText(tokenized_corpus, size=feature_size, window=window_context, \n",
    "                    min_count=min_word_count,sample=sample, sg=mode, iter=50)"
   ]
  },
  {
   "cell_type": "code",
   "execution_count": 325,
   "metadata": {},
   "outputs": [
    {
     "name": "stderr",
     "output_type": "stream",
     "text": [
      "/usr/local/lib/python3.7/site-packages/gensim/matutils.py:737: FutureWarning: Conversion of the second argument of issubdtype from `int` to `np.signedinteger` is deprecated. In future, it will be treated as `np.int64 == np.dtype(int).type`.\n",
      "  if np.issubdtype(vec.dtype, np.int):\n"
     ]
    },
    {
     "data": {
      "text/plain": [
       "{'crowdsourcing': ['loss',\n",
       "  'learning',\n",
       "  'algorithmic',\n",
       "  'stability',\n",
       "  'logarithmic',\n",
       "  'clustering',\n",
       "  'propose',\n",
       "  'mechanism',\n",
       "  'data',\n",
       "  'convex'],\n",
       " 'classification': ['clustering',\n",
       "  'number',\n",
       "  'problem',\n",
       "  'propose',\n",
       "  'logarithmic',\n",
       "  'mechanism',\n",
       "  'loss',\n",
       "  'data',\n",
       "  'size',\n",
       "  'learning'],\n",
       " 'regularised': ['propose',\n",
       "  'large',\n",
       "  'number',\n",
       "  'problem',\n",
       "  'logarithmic',\n",
       "  'loss',\n",
       "  'size',\n",
       "  'learning',\n",
       "  'data',\n",
       "  'show'],\n",
       " 'experiments': ['number',\n",
       "  'clustering',\n",
       "  'learning',\n",
       "  'large',\n",
       "  'problem',\n",
       "  'approach',\n",
       "  'algorithmic',\n",
       "  'mechanism',\n",
       "  'show',\n",
       "  'stability']}"
      ]
     },
     "execution_count": 325,
     "metadata": {},
     "output_type": "execute_result"
    }
   ],
   "source": [
    "# view similar words based on gensim's FastText model\n",
    "similar_words = {search_term: [item[0] for item in ft_model.wv.most_similar([search_term], topn=10)]\n",
    "                  for search_term in ['crowdsourcing','classification','regularised','experiments']}\n",
    "similar_words    "
   ]
  },
  {
   "cell_type": "code",
   "execution_count": 329,
   "metadata": {},
   "outputs": [
    {
     "data": {
      "image/png": "[encoded data removed]",
      "text/plain": [
       "<Figure size 864x720 with 1 Axes>"
      ]
     },
     "metadata": {
      "needs_background": "light"
     },
     "output_type": "display_data"
    }
   ],
   "source": [
    "from sklearn.decomposition import PCA\n",
    "\n",
    "words = sum([[k] + v for k, v in similar_words.items()], [])\n",
    "wvs = ft_model.wv[words]\n",
    "\n",
    "pca = PCA(n_components=2)\n",
    "np.set_printoptions(suppress=True)\n",
    "P = pca.fit_transform(wvs)\n",
    "labels = words\n",
    "\n",
    "plt.figure(figsize=(12,10))\n",
    "plt.scatter(P[:, 0], P[:, 1], c='lightgreen', edgecolors='g')\n",
    "for label, x, y in zip(labels, P[:, 0], P[:, 1]):\n",
    "    plt.annotate(label, xy=(x+0.01, y+0.01), xytext=(0, 0), textcoords='offset points')\n",
    "\n",
    "plt.show()"
   ]
  },
  {
   "cell_type": "markdown",
   "metadata": {
    "collapsed": true
   },
   "source": [
    "## Task 3: Generate document clustering"
   ]
  },
  {
   "cell_type": "code",
   "execution_count": null,
   "metadata": {},
   "outputs": [],
   "source": [
    "# Reusing the tokenized keywords in cluster for training"
   ]
  },
  {
   "cell_type": "code",
   "execution_count": 331,
   "metadata": {},
   "outputs": [
    {
     "data": {
      "text/plain": [
       "(10, 9)"
      ]
     },
     "execution_count": 331,
     "metadata": {},
     "output_type": "execute_result"
    }
   ],
   "source": [
    "df.shape"
   ]
  },
  {
   "cell_type": "code",
   "execution_count": 333,
   "metadata": {},
   "outputs": [],
   "source": [
    "# load nltk's SnowballStemmer as variabled 'stemmer'\n",
    "from nltk.stem.snowball import SnowballStemmer\n",
    "stemmer = SnowballStemmer(\"english\")"
   ]
  },
  {
   "cell_type": "code",
   "execution_count": 332,
   "metadata": {},
   "outputs": [],
   "source": [
    "def tokenize_and_stem(text):\n",
    "    # first tokenize by sentence, then by word to ensure that punctuation is caught as it's own token\n",
    "    #tokens = [word for sent in nltk.sent_tokenize(text) for word in nltk.word_tokenize(sent)]\n",
    "    #filtered_tokens = []\n",
    "    # filter out any tokens not containing letters (e.g., numeric tokens, raw punctuation)\n",
    "    #for token in tokens:\n",
    "    #    if re.search('[a-zA-Z]', token):\n",
    "    #        filtered_tokens.append(token)\n",
    "    stems = [stemmer.stem(t) for t in text]\n",
    "    return stems"
   ]
  },
  {
   "cell_type": "code",
   "execution_count": 338,
   "metadata": {},
   "outputs": [
    {
     "data": {
      "text/plain": [
       "0    None\n",
       "1    None\n",
       "2    None\n",
       "3    None\n",
       "4    None\n",
       "5    None\n",
       "6    None\n",
       "7    None\n",
       "8    None\n",
       "9    None\n",
       "Name: PaperTextClean, dtype: object"
      ]
     },
     "execution_count": 338,
     "metadata": {},
     "output_type": "execute_result"
    }
   ],
   "source": [
    "totalvocab_stemmed=[]\n",
    "df.PaperTextClean.apply(lambda x: totalvocab_stemmed.extend(tokenize_and_stem(x)))"
   ]
  },
  {
   "cell_type": "code",
   "execution_count": 341,
   "metadata": {},
   "outputs": [
    {
     "data": {
      "text/plain": [
       "31376"
      ]
     },
     "execution_count": 341,
     "metadata": {},
     "output_type": "execute_result"
    }
   ],
   "source": [
    "len(totalvocab_stemmed)"
   ]
  },
  {
   "cell_type": "code",
   "execution_count": null,
   "metadata": {},
   "outputs": [],
   "source": [
    "from sklearn.feature_extraction.text import TfidfVectorizer\n",
    "\n",
    "corpus = [\"welcome to stackoverflow my friend\", \n",
    "          \"my friend, don't worry, you can get help from stackoverflow\"]\n",
    "vectorizer = TfidfVectorizer()\n",
    "matrix = vectorizer.fit_transform(corpus)\n",
    "print(matrix)\n",
    "\n",
    "\n",
    "from sklearn.feature_extraction.text import TfidfVectorizer\n",
    "\n",
    "#define vectorizer parameters\n",
    "tfidf_vectorizer = TfidfVectorizer(max_df=0.8, max_features=200000,\n",
    "                                 min_df=0.2, stop_words='english',\n",
    "                                 use_idf=True, ngram_range=(1,3))\n",
    "\n",
    "%time tfidf_matrix = tfidf_vectorizer.fit_transform(synopses) #fit the vectorizer to synopses\n",
    "\n",
    "print(tfidf_matrix.shape)\n"
   ]
  },
  {
   "cell_type": "markdown",
   "metadata": {},
   "source": [
    "#### LDA"
   ]
  },
  {
   "cell_type": "code",
   "execution_count": 97,
   "metadata": {},
   "outputs": [
    {
     "name": "stdout",
     "output_type": "stream",
     "text": [
      "(0, '0.104*\"system\" + 0.072*\"survey\" + 0.071*\"graph\" + 0.043*\"user\" + 0.042*\"trees\" + 0.042*\"eps\" + 0.042*\"time\" + 0.042*\"computer\" + 0.042*\"human\" + 0.042*\"opinion\"')\n",
      "(1, '0.095*\"interface\" + 0.057*\"system\" + 0.056*\"user\" + 0.055*\"human\" + 0.055*\"eps\" + 0.055*\"lab\" + 0.055*\"computer\" + 0.055*\"management\" + 0.055*\"machine\" + 0.054*\"applications\"')\n",
      "(2, '0.072*\"trees\" + 0.043*\"graph\" + 0.042*\"minors\" + 0.042*\"response\" + 0.042*\"user\" + 0.042*\"time\" + 0.042*\"well\" + 0.042*\"widths\" + 0.042*\"quasi\" + 0.042*\"measurement\"')\n",
      "0.3333333354029391\n",
      "[1, 3, 6, 8]\n",
      "[0, 2]\n",
      "[4, 5, 7]\n"
     ]
    },
    {
     "data": {
      "text/plain": [
       "3"
      ]
     },
     "execution_count": 97,
     "metadata": {},
     "output_type": "execute_result"
    }
   ],
   "source": [
    "from gensim import corpora, models, similarities\n",
    "from itertools import chain\n",
    "#https://stackoverflow.com/questions/15016025/how-to-print-the-lda-topics-models-from-gensim-python\n",
    "\"\"\" DEMO \"\"\"\n",
    "documents1 = [\"Human machine interface for lab abc computer applications\",\n",
    "             \"A survey of user opinion of computer system response time\",\n",
    "             \"The EPS user interface management system\",\n",
    "             \"System and human system engineering testing of EPS\",\n",
    "             \"Relation of user perceived response time to error measurement\",\n",
    "             \"The generation of random binary unordered trees\",\n",
    "             \"The intersection graph of paths in trees\",\n",
    "             \"Graph minors IV Widths of trees and well quasi ordering\",\n",
    "             \"Graph minors A survey\"]\n",
    "documents =[(i,documents1[i]) for i in range(len(documents1))]\n",
    "\n",
    "# remove common words and tokenize\n",
    "stoplist = set('for a of the and to in'.split())\n",
    "texts = [[word for word in document[1].lower().split() if word not in stoplist] for document in documents]\n",
    "\n",
    "all_tokens = sum(texts, [])#tokens\n",
    "\n",
    "# remove words that appear only once\n",
    "tokens_once = set(word for word in set(all_tokens) if all_tokens.count(word) == 1)\n",
    "texts1 = [[word for word in text if word not in tokens_once] for text in texts]\n",
    "\n",
    "\n",
    "# Create Dictionary.\n",
    "id2word = corpora.Dictionary(texts)\n",
    "# Creates the Bag of Word corpus.\n",
    "mm = [id2word.doc2bow(text) for text in texts]\n",
    "\n",
    "# Trains the LDA models.\n",
    "lda = models.ldamodel.LdaModel(corpus=mm, id2word=id2word, num_topics=3, \\\n",
    "                               update_every=1, chunksize=10000, passes=1)\n",
    "\n",
    "# Prints the topics.\n",
    "for top in lda.print_topics():\n",
    "    print(top)\n",
    "\n",
    "\n",
    "# Assigns the topics to the documents in corpus\n",
    "lda_corpus = lda[mm]\n",
    "\n",
    "# Find the threshold, let's set the threshold to be 1/#clusters,\n",
    "# To prove that the threshold is sane, we average the sum of all probabilities:\n",
    "scores = list(chain(*[[score for topic_id,score in topic] for topic in [doc for doc in lda_corpus]]))\n",
    "\n",
    "[lda_corpus[i] for i in range(3)]\n",
    "threshold = sum(scores)/len(scores)\n",
    "\n",
    "print (threshold)\n",
    "print\n",
    "\n",
    "cluster1 = [j[0] for i,j in zip(lda_corpus,documents) if i[0][1] > threshold]\n",
    "cluster2 = [j[0] for i,j in zip(lda_corpus,documents) if i[1][1] > threshold]\n",
    "cluster3 = [j[0] for i,j in zip(lda_corpus,documents) if i[2][1] > threshold]\n",
    "\n",
    "print (cluster1)\n",
    "print (cluster2)\n",
    "print (cluster3)\n",
    "\n",
    "lda.show_topic(1, topn = 5)\n",
    "\n",
    "lda.num_topics"
   ]
  },
  {
   "cell_type": "code",
   "execution_count": 108,
   "metadata": {},
   "outputs": [],
   "source": [
    "import numpy as np\n",
    "topics_matrix = lda.show_topics(formatted=False, num_words=20)\n",
    "#topics_matrix = np.array(topics_matrix)\n",
    "#[[k for k in i] for i in topics_matrix]\n",
    "#print(topics_matrix)\n",
    "cluster_word_map={key: lda.show_topic(key, topn = 10) for key in range(lda.num_topics)}"
   ]
  },
  {
   "cell_type": "code",
   "execution_count": 121,
   "metadata": {},
   "outputs": [],
   "source": [
    "cluster_word_map={key: lda.show_topic(key, topn = 10) for key in range(lda.num_topics)}\n",
    "cluster_word_map={key:[i[0] for i in val] for key,val in cluster_word_map.items()}"
   ]
  },
  {
   "cell_type": "code",
   "execution_count": 122,
   "metadata": {},
   "outputs": [
    {
     "data": {
      "text/plain": [
       "{0: ['system',\n",
       "  'survey',\n",
       "  'graph',\n",
       "  'user',\n",
       "  'trees',\n",
       "  'eps',\n",
       "  'time',\n",
       "  'computer',\n",
       "  'human',\n",
       "  'opinion'],\n",
       " 1: ['interface',\n",
       "  'system',\n",
       "  'user',\n",
       "  'human',\n",
       "  'eps',\n",
       "  'lab',\n",
       "  'computer',\n",
       "  'management',\n",
       "  'machine',\n",
       "  'applications'],\n",
       " 2: ['trees',\n",
       "  'graph',\n",
       "  'minors',\n",
       "  'response',\n",
       "  'user',\n",
       "  'time',\n",
       "  'well',\n",
       "  'widths',\n",
       "  'quasi',\n",
       "  'measurement']}"
      ]
     },
     "execution_count": 122,
     "metadata": {},
     "output_type": "execute_result"
    }
   ],
   "source": [
    "cluster_word_map"
   ]
  },
  {
   "cell_type": "code",
   "execution_count": 123,
   "metadata": {},
   "outputs": [],
   "source": [
    "import json\n",
    "\n",
    "with open('test.json','w') as f:\n",
    "    json.dump(cluster_word_map,f)"
   ]
  },
  {
   "cell_type": "code",
   "execution_count": 96,
   "metadata": {},
   "outputs": [],
   "source": [
    "lda.save('test')"
   ]
  },
  {
   "cell_type": "code",
   "execution_count": 94,
   "metadata": {},
   "outputs": [
    {
     "ename": "NameError",
     "evalue": "name 'test' is not defined",
     "output_type": "error",
     "traceback": [
      "\u001b[0;31m---------------------------------------------------------------------------\u001b[0m",
      "\u001b[0;31mNameError\u001b[0m                                 Traceback (most recent call last)",
      "\u001b[0;32m<ipython-input-94-233dc40bc181>\u001b[0m in \u001b[0;36m<module>\u001b[0;34m\u001b[0m\n\u001b[1;32m      1\u001b[0m \u001b[0;32mfrom\u001b[0m \u001b[0mgensim\u001b[0m\u001b[0;34m.\u001b[0m\u001b[0mtest\u001b[0m\u001b[0;34m.\u001b[0m\u001b[0mutils\u001b[0m \u001b[0;32mimport\u001b[0m \u001b[0mcommon_texts\u001b[0m\u001b[0;34m\u001b[0m\u001b[0m\n\u001b[1;32m      2\u001b[0m \u001b[0;32mfrom\u001b[0m \u001b[0mgensim\u001b[0m\u001b[0;34m.\u001b[0m\u001b[0mcorpora\u001b[0m\u001b[0;34m.\u001b[0m\u001b[0mdictionary\u001b[0m \u001b[0;32mimport\u001b[0m \u001b[0mDictionary\u001b[0m\u001b[0;34m\u001b[0m\u001b[0m\n\u001b[0;32m----> 3\u001b[0;31m \u001b[0mlda\u001b[0m \u001b[0;34m=\u001b[0m \u001b[0mmodels\u001b[0m\u001b[0;34m.\u001b[0m\u001b[0mldamodel\u001b[0m\u001b[0;34m.\u001b[0m\u001b[0mLdaModel\u001b[0m\u001b[0;34m.\u001b[0m\u001b[0mload\u001b[0m\u001b[0;34m(\u001b[0m\u001b[0mtest\u001b[0m\u001b[0;34m)\u001b[0m\u001b[0;34m\u001b[0m\u001b[0m\n\u001b[0m",
      "\u001b[0;31mNameError\u001b[0m: name 'test' is not defined"
     ]
    }
   ],
   "source": [
    "from gensim.test.utils import common_texts\n",
    "from gensim.corpora.dictionary import Dictionary\n",
    "lda = models.ldamodel.LdaModel.load(test)"
   ]
  },
  {
   "cell_type": "code",
   "execution_count": 8,
   "metadata": {},
   "outputs": [],
   "source": [
    "import pandas as pd\n",
    "df=pd.read_csv(\"./input/cleaned_data.csv\")"
   ]
  },
  {
   "cell_type": "code",
   "execution_count": 18,
   "metadata": {},
   "outputs": [
    {
     "data": {
      "text/plain": [
       "Index(['Unnamed: 0', 'Id', 'Title', 'EventType', 'PdfName', 'Abstract',\n",
       "       'PaperText', 'AbstractClean', 'PaperTextClean'],\n",
       "      dtype='object')"
      ]
     },
     "execution_count": 18,
     "metadata": {},
     "output_type": "execute_result"
    }
   ],
   "source": [
    "df.columns"
   ]
  },
  {
   "cell_type": "code",
   "execution_count": 5,
   "metadata": {},
   "outputs": [],
   "source": [
    "#df.PaperTextClean.iloc[0]"
   ]
  },
  {
   "cell_type": "code",
   "execution_count": 15,
   "metadata": {
    "scrolled": true
   },
   "outputs": [],
   "source": [
    "from gensim import corpora, models, similarities\n",
    "from itertools import chain\n",
    "class document_clustering:\n",
    "    def __init__(self,data):\n",
    "        self.data=data\n",
    "        self.lda_model=None\n",
    "        self.documents_cluster=dict()\n",
    "        self.cluster_word_map=dict()\n",
    "        \n",
    "    def get_document_cluster(self, topic_count=5):\n",
    "        # create a document corpus for LDA\n",
    "        documents =[(i,j) for i,j in zip(self.data.Title, self.data.PaperTextClean)]\n",
    "        \n",
    "        # Make sure to include words which have a minimum length of 3\n",
    "        # NOTE: this is to avoid cases where cleaning removes non alphabetic characters (pg13 -> pg)\n",
    "        document_updated= [[word for word in document[1].lower().split() if len(word)>3 ] for document in documents]\n",
    "\n",
    "        # create list of token\n",
    "        all_tokens = sum(document_updated, [])\n",
    "\n",
    "        # remove words that appear only once\n",
    "        tokens_once = set(word for word in set(all_tokens) if all_tokens.count(word) == 1)\n",
    "\n",
    "        texts = [[word for word in text if word not in tokens_once] for text in document_updated]\n",
    "\n",
    "        # Create Dictionary for word corpora\n",
    "        id2word = corpora.Dictionary(texts)\n",
    "\n",
    "        # Creates the Bag of Word corpus.\n",
    "        bag_of_words = [id2word.doc2bow(text) for text in texts]\n",
    "\n",
    "        # Trains the LDA models.\n",
    "        self.lda_model = models.ldamodel.LdaModel(corpus=bag_of_words, id2word=id2word, num_topics=topic_count, update_every=1, chunksize=10000, passes=1)\n",
    "\n",
    "        # Assigns the topics to the documents in corpus\n",
    "        lda_corpus = self.lda_model[bag_of_words]\n",
    "\n",
    "        # Find threshold for document to be part of cluster, threshold to be 1/#clusters,\n",
    "        # Average the sum of all probabilities:\n",
    "        scores = list(chain(*[[score for topic_id,score in topic] for topic in [doc for doc in lda_corpus]]))\n",
    "        threshold = sum(scores)/len(scores)\n",
    "\n",
    "        # saving the LDA Model\n",
    "        #self.lda_model.save(\"../models/lda_model\")\n",
    "        \n",
    "        # Generate document cluster for each topic\n",
    "        # Document cluster - {cluster_id: [list of documents]}\n",
    "        for i in range(len(document_updated)):\n",
    "            for j in lda_corpus[i]:\n",
    "                if j[1] > threshold:\n",
    "                    key=j[0]\n",
    "                    if key in self.documents_cluster:\n",
    "                        self.documents_cluster[j[0]].append(documents[i][0])\n",
    "                    else:\n",
    "                        self.documents_cluster[j[0]]=[documents[i][0]]      \n",
    "        \n",
    "        # Generate list of words corresponding to cluster\n",
    "        # {cluster_id: [(word, significance of word)]}\n",
    "        self.cluster_word_map={key: self.lda_model.show_topic(key, topn = 10) for key in range(self.lda_model.num_topics)}\n",
    "        #print(self.cluster_word_map)"
   ]
  },
  {
   "cell_type": "code",
   "execution_count": 17,
   "metadata": {},
   "outputs": [
    {
     "data": {
      "text/plain": [
       "{4: ['Double or Nothing: Multiplicative Incentive Mechanisms for Crowdsourcing',\n",
       "  'Robust Portfolio Optimization',\n",
       "  'Unlocking neural population non-stationarities using hierarchical dynamics models',\n",
       "  'Bayesian Manifold Learning: The Locally Linear Latent Variable Model (LL-LVM)',\n",
       "  'Fast and Accurate Inference of Plackett–Luce Models',\n",
       "  'Probabilistic Line Searches for Stochastic Optimization',\n",
       "  'Algorithms with Logarithmic or Sublinear Regret for  Constrained Contextual Bandits',\n",
       "  'Automatic Variational Inference in Stan',\n",
       "  'Online Rank Elicitation for Plackett-Luce: A Dueling Bandits Approach',\n",
       "  'Black-box optimization of noisy functions with unknown smoothness',\n",
       "  'Subspace Clustering with Irrelevant Features via Robust Dantzig Selector'],\n",
       " 0: ['Learning with Symmetric Label Noise: The Importance of Being Unhinged',\n",
       "  'Algorithmic Stability and Uniform Generalization',\n",
       "  'Adaptive Low-Complexity Sequential Inference for Dirichlet Process Mixture Models',\n",
       "  'A Convergent Gradient Descent Algorithm for Rank Minimization and Semidefinite Programming from Random Linear Measurements',\n",
       "  'On the Pseudo-Dimension of Nearly Optimal Auctions',\n",
       "  \"Measuring Sample Quality with Stein's Method\",\n",
       "  'Top-k Multiclass SVM',\n",
       "  'Stochastic Online Greedy Learning with Semi-bandit Feedbacks',\n",
       "  'Synaptic Sampling: A Bayesian Approach to Neural Network Plasticity and Rewiring',\n",
       "  'Nonparametric von Mises Estimators for Entropies, Divergences and Mutual Informations',\n",
       "  'Parallelizing MCMC with Random Partition Trees',\n",
       "  'Estimating Mixture Models via Mixtures of Polynomials',\n",
       "  'Learning Theory and Algorithms for Forecasting Non-stationary Time Series',\n",
       "  'A Nonconvex Optimization Framework for Low Rank Matrix Estimation',\n",
       "  'Closed-form Estimators for High-dimensional Generalized Linear Models',\n",
       "  'Tractable Bayesian Network Structure Learning with Bounded Vertex Cover Number',\n",
       "  'Monotone k-Submodular Function Maximization with Size Constraints',\n",
       "  'Online Learning for Adversaries with Memory: Price of Past Mistakes',\n",
       "  'GAP Safe screening rules for sparse multi-task and multi-class models',\n",
       "  'Empirical Localization of Homogeneous Divergences on Discrete Sample Spaces',\n",
       "  'A Generalization of Submodular Cover via the Diminishing Return Property on the Integer Lattice',\n",
       "  'Bidirectional Recurrent Neural Networks as Generative Models',\n",
       "  'Maximum Likelihood Learning With Arbitrary Treewidth via Fast-Mixing Parameter Sets',\n",
       "  'Hessian-free Optimization for Learning Deep Multidimensional Recurrent Neural Networks',\n",
       "  'Large-scale probabilistic predictors with and without guarantees of validity'],\n",
       " 2: ['Covariance-Controlled Adaptive Langevin Thermostat for Large-Scale Bayesian Sampling',\n",
       "  'Space-Time Local Embeddings',\n",
       "  'Galileo: Perceiving Physical Object Properties by Integrating a Physics Engine with Deep Learning',\n",
       "  'Inferring Algorithmic Patterns with Stack-Augmented Recurrent Nets',\n",
       "  'Where are they looking?',\n",
       "  'Bidirectional Recurrent Convolutional Networks for Multi-Frame Super-Resolution',\n",
       "  'Streaming, Distributed Variational Inference for Bayesian Nonparametrics',\n",
       "  'Learning visual biases from human imagination',\n",
       "  'Policy Evaluation Using the Ω-Return',\n",
       "  '3D Object Proposals for Accurate Object Class Detection',\n",
       "  'A Reduced-Dimension fMRI Shared Response Model',\n",
       "  'Individual Planning in Infinite-Horizon Multiagent Settings: Inference, Structure and Scalability',\n",
       "  'Barrier Frank-Wolfe for Marginal Inference',\n",
       "  'Deep learning with Elastic Averaging SGD',\n",
       "  'A Framework for Individualizing Predictions of Disease Trajectories by Exploiting Multi-Resolution Structure',\n",
       "  'Bidirectional Recurrent Neural Networks as Generative Models'],\n",
       " 1: ['Logarithmic Time Online Multiclass prediction',\n",
       "  'Planar Ultrametrics for Image Segmentation',\n",
       "  'Parallel Correlation Clustering on Big Graphs',\n",
       "  'Faster R-CNN: Towards Real-Time Object Detection with Region Proposal Networks',\n",
       "  'Color Constancy by Learning to Predict Chromaticity from Luminance',\n",
       "  'The Pareto Regret Frontier for Bandits',\n",
       "  'Learning visual biases from human imagination',\n",
       "  'Smooth and Strong: MAP Inference with Linear Convergence',\n",
       "  'Optimal Ridge Detection using Coverage Risk',\n",
       "  'Deeply Learning the Messages in Message Passing Inference',\n",
       "  'Accelerated Proximal Gradient Methods for Nonconvex Programming',\n",
       "  'HONOR: Hybrid Optimization for NOn-convex Regularized problems',\n",
       "  'On the Global Linear Convergence of Frank-Wolfe Optimization Variants',\n",
       "  'Attention-Based Models for Speech Recognition',\n",
       "  'Online F-Measure Optimization',\n",
       "  'Tractable Bayesian Network Structure Learning with Bounded Vertex Cover Number',\n",
       "  'Robust Feature-Sample Linear Discriminant Analysis for Brain Disorders Diagnosis',\n",
       "  'Black-box optimization of noisy functions with unknown smoothness',\n",
       "  'Active Learning from Weak and Strong Labelers',\n",
       "  'On the Optimality of Classifier Chain for Multi-label Classification',\n",
       "  'Precision-Recall-Gain Curves: PR Analysis Done Right'],\n",
       " 3: ['Expressing an Image Stream with a Sequence of Natural Sentences',\n",
       "  'Faster R-CNN: Towards Real-Time Object Detection with Region Proposal Networks',\n",
       "  'A Convergent Gradient Descent Algorithm for Rank Minimization and Semidefinite Programming from Random Linear Measurements',\n",
       "  'On the Limitation of Spectral Methods: From the Gaussian Hidden Clique Problem to Rank-One Perturbations of Gaussian Tensors',\n",
       "  'Bounding errors of Expectation-Propagation',\n",
       "  'A fast, universal algorithm to learn parametric nonlinear embeddings',\n",
       "  'Texture Synthesis Using Convolutional Neural Networks',\n",
       "  'Extending Gossip Algorithms to Distributed Estimation of U-statistics',\n",
       "  'Copeland Dueling Bandits',\n",
       "  'Top-k Multiclass SVM',\n",
       "  'Orthogonal NMF through Subspace Exploration',\n",
       "  'Approximating Sparse PCA from Incomplete Data',\n",
       "  'Column Selection via Adaptive Sampling',\n",
       "  'Tensorizing Neural Networks',\n",
       "  'Spectral Learning of Large Structured HMMs for Comparative Epigenomics',\n",
       "  'Deep Knowledge Tracing',\n",
       "  'Rethinking LDA: Moment Matching for Discrete ICA',\n",
       "  'Efficient Compressive Phase Retrieval with Constrained Sensing Vectors',\n",
       "  'Compressive spectral embedding: sidestepping the SVD',\n",
       "  'M-Best-Diverse Labelings for Submodular Energies and Beyond',\n",
       "  'Learning Large-Scale Poisson DAG Models based on OverDispersion Scoring',\n",
       "  'Training Restricted Boltzmann Machine via the ￼Thouless-Anderson-Palmer free energy',\n",
       "  'Character-level Convolutional Networks for Text Classification',\n",
       "  'Recovering Communities in the General Stochastic Block Model Without Knowing the Parameters',\n",
       "  'Deep learning with Elastic Averaging SGD',\n",
       "  'Robust Regression via Hard Thresholding',\n",
       "  'Sparse Local Embeddings for Extreme Multi-label Classification',\n",
       "  'Solving Random Quadratic Systems of Equations Is Nearly as Easy as Solving Linear Systems',\n",
       "  'Sparse PCA via Bipartite Matchings',\n",
       "  'Fast Randomized Kernel Ridge Regression with Statistical Guarantees',\n",
       "  'Convolutional LSTM Network: A Machine Learning Approach for Precipitation Nowcasting',\n",
       "  'Quartz: Randomized Dual Coordinate Ascent with Arbitrary Sampling',\n",
       "  'Hessian-free Optimization for Learning Deep Multidimensional Recurrent Neural Networks']}"
      ]
     },
     "execution_count": 17,
     "metadata": {},
     "output_type": "execute_result"
    }
   ],
   "source": [
    "df1=df[:100]\n",
    "obj=document_clustering(df1)\n",
    "obj.get_document_cluster()\n",
    "obj.documents_cluster\n",
    "#obj.cluster_word_map"
   ]
  },
  {
   "cell_type": "code",
   "execution_count": null,
   "metadata": {},
   "outputs": [],
   "source": []
  }
 ],
 "metadata": {
  "kernelspec": {
   "display_name": "Python 3",
   "language": "python",
   "name": "python3"
  },
  "language_info": {
   "codemirror_mode": {
    "name": "ipython",
    "version": 3
   },
   "file_extension": ".py",
   "mimetype": "text/x-python",
   "name": "python",
   "nbconvert_exporter": "python",
   "pygments_lexer": "ipython3",
   "version": "3.7.0"
  }
 },
 "nbformat": 4,
 "nbformat_minor": 2
}
